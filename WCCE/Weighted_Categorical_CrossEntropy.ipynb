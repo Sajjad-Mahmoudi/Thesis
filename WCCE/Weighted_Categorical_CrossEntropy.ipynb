{
  "nbformat": 4,
  "nbformat_minor": 0,
  "metadata": {
    "colab": {
      "name": "Untitled",
      "provenance": [],
      "collapsed_sections": [],
      "authorship_tag": "ABX9TyPJDLCCRufePgP0sNf53mUB",
      "include_colab_link": true
    },
    "kernelspec": {
      "name": "python3",
      "display_name": "Python 3"
    },
    "language_info": {
      "name": "python"
    }
  },
  "cells": [
    {
      "cell_type": "markdown",
      "metadata": {
        "id": "view-in-github",
        "colab_type": "text"
      },
      "source": [
        "<a href=\"https://colab.research.google.com/github/Sajjad-Mahmoudi/Thesis/blob/main/Weighted_Categorical_CrossEntropy.ipynb\" target=\"_parent\"><img src=\"https://colab.research.google.com/assets/colab-badge.svg\" alt=\"Open In Colab\"/></a>"
      ]
    },
    {
      "cell_type": "code",
      "execution_count": null,
      "metadata": {
        "id": "GA1vosnZZbqq"
      },
      "outputs": [],
      "source": [
        "import numpy as np\n",
        "import tensorflow.keras.backend as K\n",
        "import tensorflow as tf"
      ]
    },
    {
      "cell_type": "code",
      "source": [
        "y_pred = np.array([[[0.6,0.4],[0.3,0.7],[0.1,0.9],[0.23,0.77]],\n",
        "                 [[0.3,0.7],[0.21,0.79],[0.99,0.01],[0.23,0.77]], \n",
        "                 [[0.1,0.9],[0.88,0.12],[0.33,0.67],[0.11,0.89]]])\n",
        "y_true = np.array([[[1,0],[1,0],[0,1],[0,1]], \n",
        "                 [[0,1],[0,1],[1,0],[1,0]], \n",
        "                 [[0,1],[1,0],[1,0],[0,1]]])"
      ],
      "metadata": {
        "id": "kzfBsraCNU84"
      },
      "execution_count": null,
      "outputs": []
    },
    {
      "cell_type": "code",
      "source": [
        "y_true_t = tf.constant(y_true)\n",
        "y_pred_t = tf.constant(y_pred)"
      ],
      "metadata": {
        "id": "7dKgmyBAUJ7m"
      },
      "execution_count": null,
      "outputs": []
    },
    {
      "cell_type": "code",
      "source": [
        "def weighted_categorical_crossentropy(weights):\n",
        "    def wcce(y_true, y_pred):\n",
        "        tensor_weight = K.constant(weights, dtype=tf.float64)\n",
        "        y_true = K.cast(y_true, y_pred.dtype)\n",
        "        return K.categorical_crossentropy(y_true, y_pred) * K.sum(y_true * tensor_weight, axis=-1)\n",
        "    return wcce"
      ],
      "metadata": {
        "id": "z4l9F0bNoG7J"
      },
      "execution_count": null,
      "outputs": []
    },
    {
      "cell_type": "code",
      "source": [
        "tensor_weight = K.constant([0.6, 0.4], dtype=tf.float64)\n",
        "y_true = K.cast(y_true, y_pred.dtype)"
      ],
      "metadata": {
        "id": "LldM2oKtp6xl"
      },
      "execution_count": null,
      "outputs": []
    },
    {
      "cell_type": "code",
      "source": [
        "K.categorical_crossentropy(y_true, y_pred)"
      ],
      "metadata": {
        "colab": {
          "base_uri": "https://localhost:8080/"
        },
        "id": "lfFBJpRTOM3o",
        "outputId": "e6d3ad4e-68e5-41ee-93a0-99dcce4d3807"
      },
      "execution_count": null,
      "outputs": [
        {
          "output_type": "execute_result",
          "data": {
            "text/plain": [
              "<tf.Tensor: shape=(3, 4), dtype=float64, numpy=\n",
              "array([[0.51082562, 1.2039728 , 0.10536052, 0.26136476],\n",
              "       [0.35667494, 0.23572233, 0.01005034, 1.46967597],\n",
              "       [0.10536052, 0.12783337, 1.10866262, 0.11653382]])>"
            ]
          },
          "metadata": {},
          "execution_count": 28
        }
      ]
    },
    {
      "cell_type": "code",
      "source": [
        "y_true * tensor_weight"
      ],
      "metadata": {
        "colab": {
          "base_uri": "https://localhost:8080/"
        },
        "id": "pXAlqPRnOS95",
        "outputId": "4c342848-ffc0-419e-d1f0-6b12e7ac1403"
      },
      "execution_count": null,
      "outputs": [
        {
          "output_type": "execute_result",
          "data": {
            "text/plain": [
              "<tf.Tensor: shape=(3, 4, 2), dtype=float64, numpy=\n",
              "array([[[0.6, 0. ],\n",
              "        [0.6, 0. ],\n",
              "        [0. , 0.4],\n",
              "        [0. , 0.4]],\n",
              "\n",
              "       [[0. , 0.4],\n",
              "        [0. , 0.4],\n",
              "        [0.6, 0. ],\n",
              "        [0.6, 0. ]],\n",
              "\n",
              "       [[0. , 0.4],\n",
              "        [0.6, 0. ],\n",
              "        [0.6, 0. ],\n",
              "        [0. , 0.4]]])>"
            ]
          },
          "metadata": {},
          "execution_count": 29
        }
      ]
    },
    {
      "cell_type": "code",
      "source": [
        "K.sum(y_true * tensor_weight, axis=-1)"
      ],
      "metadata": {
        "colab": {
          "base_uri": "https://localhost:8080/"
        },
        "id": "_cq80JPuRdjX",
        "outputId": "566714be-4b20-4be1-f36a-85bf97878383"
      },
      "execution_count": null,
      "outputs": [
        {
          "output_type": "execute_result",
          "data": {
            "text/plain": [
              "<tf.Tensor: shape=(3, 4), dtype=float64, numpy=\n",
              "array([[0.6, 0.6, 0.4, 0.4],\n",
              "       [0.4, 0.4, 0.6, 0.6],\n",
              "       [0.4, 0.6, 0.6, 0.4]])>"
            ]
          },
          "metadata": {},
          "execution_count": 30
        }
      ]
    },
    {
      "cell_type": "code",
      "source": [
        "K.categorical_crossentropy(y_true_t, y_pred_t) * K.sum(y_true * tensor_weight, axis=-1)"
      ],
      "metadata": {
        "colab": {
          "base_uri": "https://localhost:8080/"
        },
        "id": "seDM9DNHU1ou",
        "outputId": "0b2bfaa7-5424-40c4-9649-1968e20f4ced"
      },
      "execution_count": null,
      "outputs": [
        {
          "output_type": "execute_result",
          "data": {
            "text/plain": [
              "<tf.Tensor: shape=(3, 4), dtype=float64, numpy=\n",
              "array([[0.30649537, 0.72238368, 0.04214421, 0.10454591],\n",
              "       [0.14266998, 0.09428893, 0.0060302 , 0.88180558],\n",
              "       [0.04214421, 0.07670002, 0.66519757, 0.04661353]])>"
            ]
          },
          "metadata": {},
          "execution_count": 31
        }
      ]
    }
  ]
}
